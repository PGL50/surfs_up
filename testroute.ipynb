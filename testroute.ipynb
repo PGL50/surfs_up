{
 "cells": [
  {
   "cell_type": "code",
   "execution_count": 1,
   "id": "0d0b3205",
   "metadata": {},
   "outputs": [
    {
     "name": "stdout",
     "output_type": "stream",
     "text": [
      " * Serving Flask app \"__main__\" (lazy loading)\n",
      " * Environment: production\n",
      "   WARNING: This is a development server. Do not use it in a production deployment.\n",
      "   Use a production WSGI server instead.\n",
      " * Debug mode: off\n"
     ]
    },
    {
     "name": "stderr",
     "output_type": "stream",
     "text": [
      " * Running on http://127.0.0.1:5000/ (Press CTRL+C to quit)\n"
     ]
    }
   ],
   "source": [
    "# from flask import Flask\n",
    "# app = Flask(__name__)\n",
    "# @app.route('/')\n",
    "# def hello_world():\n",
    "#     return 'Hello world'\n",
    "\n",
    "import datetime as dt\n",
    "import numpy as np\n",
    "import pandas as pd\n",
    "\n",
    "import sqlalchemy\n",
    "from sqlalchemy.ext.automap import automap_base\n",
    "from sqlalchemy.orm import Session\n",
    "from sqlalchemy import create_engine, func\n",
    "\n",
    "from flask import Flask, jsonify\n",
    "\n",
    "engine = create_engine(\"sqlite:///hawaii.sqlite\")\n",
    "Base = automap_base()\n",
    "Base.prepare(engine, reflect=True)\n",
    "\n",
    "Measurement = Base.classes.measurement\n",
    "Station = Base.classes.station\n",
    "\n",
    "session = Session(engine)\n",
    "\n",
    "app = Flask(__name__)\n",
    "\n",
    "# @app.route(\"/\")\n",
    "\n",
    "# def welcome():\n",
    "#     return(\n",
    "#     '''\n",
    "#     Welcome to the Climate Analysis API!\n",
    "#     Available Routes:\n",
    "#     /api/v1.0/precipitation\n",
    "#     /api/v1.0/stations\n",
    "#     /api/v1.0/tobs\n",
    "#     /api/v1.0/temp/start/end\n",
    "#     ''')\n",
    "\n",
    "# @app.route(\"/api/v1.0/precipitation\")\n",
    "\n",
    "# def precipitation():\n",
    "#    prev_year = dt.date(2017, 8, 23) - dt.timedelta(days=365)\n",
    "#    precipitation = session.query(Measurement.date, Measurement.prcp).\\\n",
    "#     filter(Measurement.date >= prev_year).all()\n",
    "#    precip = {date: prcp for date, prcp in precipitation}\n",
    "#    return jsonify(precip)\n",
    "\n",
    "# @app.route(\"/api/v1.0/stations\")\n",
    "\n",
    "# def stations():\n",
    "#     results = session.query(Station.station).all()\n",
    "#     stations = list(np.ravel(results))\n",
    "#     return jsonify(stations=stations)\n",
    "\n",
    "# @app.route(\"/api/v1.0/tobs\")\n",
    "\n",
    "# def temp_monthly():\n",
    "#     prev_year = dt.date(2017, 8, 23) - dt.timedelta(days=365)\n",
    "#     results = session.query(Measurement.tobs).\\\n",
    "#       filter(Measurement.station == 'USC00519281').\\\n",
    "#       filter(Measurement.date >= prev_year).all()\n",
    "#     temps = list(np.ravel(results))\n",
    "#     return jsonify(temps=temps)\n",
    "\n",
    "@app.route(\"/api/v1.0/temp/<start>\")\n",
    "@app.route(\"/api/v1.0/temp/<start>/<end>\")\n",
    "\n",
    "def stats(start=None, end=None):\n",
    "    sel = [func.min(Measurement.tobs), func.avg(Measurement.tobs), func.max(Measurement.tobs)]\n",
    "\n",
    "    if not end:\n",
    "        results = session.query(*sel).\\\n",
    "            filter(Measurement.date >= start).all()\n",
    "        temps = list(np.ravel(results))\n",
    "        return jsonify(temps)\n",
    "\n",
    "    results = session.query(*sel).\\\n",
    "        filter(Measurement.date >= start).\\\n",
    "        filter(Measurement.date <= end).all()\n",
    "    temps = list(np.ravel(results))\n",
    "    return jsonify(temps)\n",
    "\n",
    "if __name__ == '__main__':\n",
    "    app.run()"
   ]
  },
  {
   "cell_type": "code",
   "execution_count": null,
   "id": "f614ae52",
   "metadata": {},
   "outputs": [],
   "source": []
  }
 ],
 "metadata": {
  "kernelspec": {
   "display_name": "Python 3",
   "language": "python",
   "name": "python3"
  },
  "language_info": {
   "codemirror_mode": {
    "name": "ipython",
    "version": 3
   },
   "file_extension": ".py",
   "mimetype": "text/x-python",
   "name": "python",
   "nbconvert_exporter": "python",
   "pygments_lexer": "ipython3",
   "version": "3.7.10"
  }
 },
 "nbformat": 4,
 "nbformat_minor": 5
}
